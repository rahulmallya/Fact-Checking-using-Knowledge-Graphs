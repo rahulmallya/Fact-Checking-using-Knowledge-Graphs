{
  "nbformat": 4,
  "nbformat_minor": 0,
  "metadata": {
    "colab": {
      "provenance": []
    },
    "kernelspec": {
      "name": "python3",
      "display_name": "Python 3"
    },
    "language_info": {
      "name": "python"
    }
  },
  "cells": [
    {
      "cell_type": "code",
      "execution_count": 14,
      "metadata": {
        "colab": {
          "base_uri": "https://localhost:8080/"
        },
        "id": "QG0GQkE5jXQP",
        "outputId": "a5fa7afa-31ef-4a2e-ab0d-a716684aa88b"
      },
      "outputs": [
        {
          "output_type": "stream",
          "name": "stdout",
          "text": [
            "Looking in indexes: https://pypi.org/simple, https://us-python.pkg.dev/colab-wheels/public/simple/\n",
            "Requirement already satisfied: transformers==4.20.1 in /usr/local/lib/python3.10/dist-packages (4.20.1)\n",
            "Requirement already satisfied: huggingface-hub<1.0,>=0.1.0 in /usr/local/lib/python3.10/dist-packages (from transformers==4.20.1) (0.14.1)\n",
            "Requirement already satisfied: packaging>=20.0 in /usr/local/lib/python3.10/dist-packages (from transformers==4.20.1) (23.1)\n",
            "Requirement already satisfied: requests in /usr/local/lib/python3.10/dist-packages (from transformers==4.20.1) (2.27.1)\n",
            "Requirement already satisfied: tqdm>=4.27 in /usr/local/lib/python3.10/dist-packages (from transformers==4.20.1) (4.65.0)\n",
            "Requirement already satisfied: tokenizers!=0.11.3,<0.13,>=0.11.1 in /usr/local/lib/python3.10/dist-packages (from transformers==4.20.1) (0.12.1)\n",
            "Requirement already satisfied: filelock in /usr/local/lib/python3.10/dist-packages (from transformers==4.20.1) (3.12.0)\n",
            "Requirement already satisfied: numpy>=1.17 in /usr/local/lib/python3.10/dist-packages (from transformers==4.20.1) (1.22.4)\n",
            "Requirement already satisfied: regex!=2019.12.17 in /usr/local/lib/python3.10/dist-packages (from transformers==4.20.1) (2022.10.31)\n",
            "Requirement already satisfied: pyyaml>=5.1 in /usr/local/lib/python3.10/dist-packages (from transformers==4.20.1) (6.0)\n",
            "Requirement already satisfied: fsspec in /usr/local/lib/python3.10/dist-packages (from huggingface-hub<1.0,>=0.1.0->transformers==4.20.1) (2023.4.0)\n",
            "Requirement already satisfied: typing-extensions>=3.7.4.3 in /usr/local/lib/python3.10/dist-packages (from huggingface-hub<1.0,>=0.1.0->transformers==4.20.1) (4.5.0)\n",
            "Requirement already satisfied: certifi>=2017.4.17 in /usr/local/lib/python3.10/dist-packages (from requests->transformers==4.20.1) (2022.12.7)\n",
            "Requirement already satisfied: urllib3<1.27,>=1.21.1 in /usr/local/lib/python3.10/dist-packages (from requests->transformers==4.20.1) (1.26.15)\n",
            "Requirement already satisfied: idna<4,>=2.5 in /usr/local/lib/python3.10/dist-packages (from requests->transformers==4.20.1) (3.4)\n",
            "Requirement already satisfied: charset-normalizer~=2.0.0 in /usr/local/lib/python3.10/dist-packages (from requests->transformers==4.20.1) (2.0.12)\n"
          ]
        }
      ],
      "source": [
        "pip install transformers==4.20.1"
      ]
    },
    {
      "cell_type": "code",
      "source": [
        "import pandas as pd\n",
        "import numpy as np\n",
        "import math \n",
        "from sklearn.model_selection import train_test_split\n",
        "import torch\n",
        "import torch.nn\n",
        "import seaborn as sns\n",
        "import transformers\n",
        "import json\n",
        "from tqdm import tqdm\n",
        "from torch.utils.data import Dataset, DataLoader, TensorDataset\n",
        "\n",
        "import logging\n",
        "logging.basicConfig(level=logging.ERROR)\n",
        "from torch.nn.utils.rnn import pad_sequence"
      ],
      "metadata": {
        "id": "IK1QiaqujjyR"
      },
      "execution_count": 15,
      "outputs": []
    },
    {
      "cell_type": "code",
      "source": [
        "from torch import cuda\n",
        "device = 'cuda' if cuda.is_available() else 'cpu'\n",
        "print(device)# to use gpu if possible"
      ],
      "metadata": {
        "colab": {
          "base_uri": "https://localhost:8080/"
        },
        "id": "qX5La_pOjmm0",
        "outputId": "53d69700-1375-44b4-ce60-2a6342ee53ad"
      },
      "execution_count": 16,
      "outputs": [
        {
          "output_type": "stream",
          "name": "stdout",
          "text": [
            "cpu\n"
          ]
        }
      ]
    },
    {
      "cell_type": "code",
      "source": [
        "import json\n",
        "import networkx as nx\n",
        "\n",
        "# Read the JSONL file and parse the data\n",
        "def read_fever_jsonl(file_path):\n",
        "    data = []\n",
        "    with open(file_path, 'r') as file:\n",
        "        for line in file:\n",
        "            data.append(json.loads(line))\n",
        "    return data\n",
        "\n",
        "# Create the knowledge graph\n",
        "def create_knowledge_graph(data):\n",
        "    kg = nx.DiGraph()\n",
        "    \n",
        "    for item in data:\n",
        "        claim_id = item['id']\n",
        "        claim_text = item['claim']\n",
        "        label = item['label']\n",
        "        \n",
        "        # Add claim node\n",
        "        kg.add_node(claim_id, label=\"claim\", text=claim_text)\n",
        "        \n",
        "        if label != \"NOT ENOUGH INFO\":\n",
        "            for evidence_group in item['evidence']:\n",
        "                for evidence in evidence_group:\n",
        "                    evidence_id = evidence[1]\n",
        "                    evidence_title = evidence[2]\n",
        "                    evidence_sentence_num = evidence[3]\n",
        "                    \n",
        "                    # Add evidence node\n",
        "                    kg.add_node(evidence_id, label=\"evidence\", title=evidence_title, sentence_num=evidence_sentence_num)\n",
        "                    \n",
        "                    # Add edge between claim and evidence with the relationship label\n",
        "                    kg.add_edge(claim_id, evidence_id, label=label)\n",
        "    \n",
        "    return kg\n",
        "\n",
        "file_path = \"/content/drive/MyDrive/NAM/train.jsonl\"\n",
        "data = read_fever_jsonl(file_path)\n",
        "knowledge_graph = create_knowledge_graph(data)"
      ],
      "metadata": {
        "id": "1c_KksyvjrE_"
      },
      "execution_count": 17,
      "outputs": []
    },
    {
      "cell_type": "code",
      "source": [
        "print(\"Nodes in the knowledge graph:\", knowledge_graph.number_of_nodes())\n",
        "print(\"Edges in the knowledge graph:\", knowledge_graph.number_of_edges())"
      ],
      "metadata": {
        "colab": {
          "base_uri": "https://localhost:8080/"
        },
        "id": "S4PgI9ysjs9n",
        "outputId": "3c5f807e-b827-4f50-c72b-46dcc41fe931"
      },
      "execution_count": 18,
      "outputs": [
        {
          "output_type": "stream",
          "name": "stdout",
          "text": [
            "Nodes in the knowledge graph: 268910\n",
            "Edges in the knowledge graph: 221476\n"
          ]
        }
      ]
    },
    {
      "cell_type": "code",
      "source": [
        "!pip install nltk"
      ],
      "metadata": {
        "colab": {
          "base_uri": "https://localhost:8080/"
        },
        "id": "rB25byC9jmO5",
        "outputId": "b9990d36-9a2f-4da5-dbef-2c53edbe8c0f"
      },
      "execution_count": 19,
      "outputs": [
        {
          "output_type": "stream",
          "name": "stdout",
          "text": [
            "Looking in indexes: https://pypi.org/simple, https://us-python.pkg.dev/colab-wheels/public/simple/\n",
            "Requirement already satisfied: nltk in /usr/local/lib/python3.10/dist-packages (3.8.1)\n",
            "Requirement already satisfied: tqdm in /usr/local/lib/python3.10/dist-packages (from nltk) (4.65.0)\n",
            "Requirement already satisfied: regex>=2021.8.3 in /usr/local/lib/python3.10/dist-packages (from nltk) (2022.10.31)\n",
            "Requirement already satisfied: joblib in /usr/local/lib/python3.10/dist-packages (from nltk) (1.2.0)\n",
            "Requirement already satisfied: click in /usr/local/lib/python3.10/dist-packages (from nltk) (8.1.3)\n"
          ]
        }
      ]
    },
    {
      "cell_type": "code",
      "source": [
        "import nltk\n",
        "from nltk.corpus import stopwords\n",
        "from nltk.stem import WordNetLemmatizer\n",
        "from sklearn.feature_extraction.text import TfidfVectorizer\n",
        "\n",
        "nltk.download('stopwords')\n",
        "nltk.download('wordnet')\n",
        "\n",
        "def preprocess_text(text):\n",
        "    tokens = nltk.word_tokenize(text.lower())\n",
        "    tokens = [token for token in tokens if token.isalpha()]\n",
        "    stop_words = set(stopwords.words('english'))\n",
        "    tokens = [token for token in tokens if token not in stop_words]\n",
        "    lemmatizer = WordNetLemmatizer()\n",
        "    tokens = [lemmatizer.lemmatize(token) for token in tokens]\n",
        "    return ' '.join(tokens)"
      ],
      "metadata": {
        "colab": {
          "base_uri": "https://localhost:8080/"
        },
        "id": "g6lk2elvj7VE",
        "outputId": "d00937ef-9257-4ef6-9031-82c4eb81b8ff"
      },
      "execution_count": 20,
      "outputs": [
        {
          "output_type": "stream",
          "name": "stderr",
          "text": [
            "[nltk_data] Downloading package stopwords to /root/nltk_data...\n",
            "[nltk_data]   Package stopwords is already up-to-date!\n",
            "[nltk_data] Downloading package wordnet to /root/nltk_data...\n",
            "[nltk_data]   Package wordnet is already up-to-date!\n"
          ]
        }
      ]
    },
    {
      "cell_type": "code",
      "source": [
        "def find_top_k_evidences(kg, claim_id, k=5):\n",
        "    edges = [(evidence_id, data['label']) for _, evidence_id, data in kg.out_edges(claim_id, data=True)]\n",
        "    evidences = sorted(edges, key=lambda x: x[1], reverse=True)[:k]\n",
        "    return evidences"
      ],
      "metadata": {
        "id": "oVbGavn0jVPr"
      },
      "execution_count": 21,
      "outputs": []
    },
    {
      "cell_type": "code",
      "source": [
        "nltk.download('punkt')\n",
        "nltk.download('wordnet')\n",
        "nltk.download('omw-1.4')\n",
        "\n",
        "def prepare_dataset(kg):\n",
        "    dataset = []\n",
        "    for claim_id, data in kg.nodes(data=True):\n",
        "        if data['label'] == 'claim':\n",
        "            claim_text = preprocess_text(data['text'])\n",
        "            evidences = find_top_k_evidences(kg, claim_id)\n",
        "            for evidence_id, relationship in evidences:\n",
        "                evidence_data = kg.nodes[evidence_id]\n",
        "                evidence_text = preprocess_text(evidence_data['title'])\n",
        "                dataset.append((claim_text, evidence_text, relationship))\n",
        "    return dataset\n",
        "\n",
        "dataset = prepare_dataset(knowledge_graph)\n"
      ],
      "metadata": {
        "colab": {
          "base_uri": "https://localhost:8080/"
        },
        "id": "Y_uK8AWnjtKY",
        "outputId": "deeb7195-6028-417b-eaa6-24198597becf"
      },
      "execution_count": 22,
      "outputs": [
        {
          "output_type": "stream",
          "name": "stderr",
          "text": [
            "[nltk_data] Downloading package punkt to /root/nltk_data...\n",
            "[nltk_data]   Package punkt is already up-to-date!\n",
            "[nltk_data] Downloading package wordnet to /root/nltk_data...\n",
            "[nltk_data]   Package wordnet is already up-to-date!\n",
            "[nltk_data] Downloading package omw-1.4 to /root/nltk_data...\n",
            "[nltk_data]   Package omw-1.4 is already up-to-date!\n"
          ]
        }
      ]
    },
    {
      "cell_type": "code",
      "source": [
        "def extract_features(dataset):\n",
        "    vectorizer = TfidfVectorizer()\n",
        "    claims, evidences, labels = zip(*dataset)\n",
        "    claim_features = vectorizer.fit_transform(claims)\n",
        "    evidence_features = vectorizer.transform(evidences)\n",
        "    return claim_features, evidence_features, labels, vectorizer\n",
        "\n",
        "claim_features, evidence_features, labels, vectorizer = extract_features(dataset)"
      ],
      "metadata": {
        "id": "3Em8dTBUjvm5"
      },
      "execution_count": 23,
      "outputs": []
    },
    {
      "cell_type": "code",
      "source": [
        "from sklearn.linear_model import LogisticRegression\n",
        "from sklearn.model_selection import train_test_split\n",
        "from scipy.sparse import hstack\n",
        "\n",
        "X = hstack([claim_features, evidence_features])\n",
        "y = [1 if label == \"SUPPORTS\" else 0 for label in labels]\n",
        "\n",
        "X_train, X_test, y_train, y_test = train_test_split(X, y, test_size=0.2, random_state=42)\n",
        "\n",
        "model = LogisticRegression()\n",
        "model.fit(X_train, y_train)"
      ],
      "metadata": {
        "colab": {
          "base_uri": "https://localhost:8080/",
          "height": 213
        },
        "id": "L1j5tBEwkLJF",
        "outputId": "7cc99294-9dc2-43e0-c3db-d3bb8fa49d15"
      },
      "execution_count": 24,
      "outputs": [
        {
          "output_type": "stream",
          "name": "stderr",
          "text": [
            "/usr/local/lib/python3.10/dist-packages/sklearn/linear_model/_logistic.py:458: ConvergenceWarning: lbfgs failed to converge (status=1):\n",
            "STOP: TOTAL NO. of ITERATIONS REACHED LIMIT.\n",
            "\n",
            "Increase the number of iterations (max_iter) or scale the data as shown in:\n",
            "    https://scikit-learn.org/stable/modules/preprocessing.html\n",
            "Please also refer to the documentation for alternative solver options:\n",
            "    https://scikit-learn.org/stable/modules/linear_model.html#logistic-regression\n",
            "  n_iter_i = _check_optimize_result(\n"
          ]
        },
        {
          "output_type": "execute_result",
          "data": {
            "text/plain": [
              "LogisticRegression()"
            ],
            "text/html": [
              "<style>#sk-container-id-2 {color: black;background-color: white;}#sk-container-id-2 pre{padding: 0;}#sk-container-id-2 div.sk-toggleable {background-color: white;}#sk-container-id-2 label.sk-toggleable__label {cursor: pointer;display: block;width: 100%;margin-bottom: 0;padding: 0.3em;box-sizing: border-box;text-align: center;}#sk-container-id-2 label.sk-toggleable__label-arrow:before {content: \"▸\";float: left;margin-right: 0.25em;color: #696969;}#sk-container-id-2 label.sk-toggleable__label-arrow:hover:before {color: black;}#sk-container-id-2 div.sk-estimator:hover label.sk-toggleable__label-arrow:before {color: black;}#sk-container-id-2 div.sk-toggleable__content {max-height: 0;max-width: 0;overflow: hidden;text-align: left;background-color: #f0f8ff;}#sk-container-id-2 div.sk-toggleable__content pre {margin: 0.2em;color: black;border-radius: 0.25em;background-color: #f0f8ff;}#sk-container-id-2 input.sk-toggleable__control:checked~div.sk-toggleable__content {max-height: 200px;max-width: 100%;overflow: auto;}#sk-container-id-2 input.sk-toggleable__control:checked~label.sk-toggleable__label-arrow:before {content: \"▾\";}#sk-container-id-2 div.sk-estimator input.sk-toggleable__control:checked~label.sk-toggleable__label {background-color: #d4ebff;}#sk-container-id-2 div.sk-label input.sk-toggleable__control:checked~label.sk-toggleable__label {background-color: #d4ebff;}#sk-container-id-2 input.sk-hidden--visually {border: 0;clip: rect(1px 1px 1px 1px);clip: rect(1px, 1px, 1px, 1px);height: 1px;margin: -1px;overflow: hidden;padding: 0;position: absolute;width: 1px;}#sk-container-id-2 div.sk-estimator {font-family: monospace;background-color: #f0f8ff;border: 1px dotted black;border-radius: 0.25em;box-sizing: border-box;margin-bottom: 0.5em;}#sk-container-id-2 div.sk-estimator:hover {background-color: #d4ebff;}#sk-container-id-2 div.sk-parallel-item::after {content: \"\";width: 100%;border-bottom: 1px solid gray;flex-grow: 1;}#sk-container-id-2 div.sk-label:hover label.sk-toggleable__label {background-color: #d4ebff;}#sk-container-id-2 div.sk-serial::before {content: \"\";position: absolute;border-left: 1px solid gray;box-sizing: border-box;top: 0;bottom: 0;left: 50%;z-index: 0;}#sk-container-id-2 div.sk-serial {display: flex;flex-direction: column;align-items: center;background-color: white;padding-right: 0.2em;padding-left: 0.2em;position: relative;}#sk-container-id-2 div.sk-item {position: relative;z-index: 1;}#sk-container-id-2 div.sk-parallel {display: flex;align-items: stretch;justify-content: center;background-color: white;position: relative;}#sk-container-id-2 div.sk-item::before, #sk-container-id-2 div.sk-parallel-item::before {content: \"\";position: absolute;border-left: 1px solid gray;box-sizing: border-box;top: 0;bottom: 0;left: 50%;z-index: -1;}#sk-container-id-2 div.sk-parallel-item {display: flex;flex-direction: column;z-index: 1;position: relative;background-color: white;}#sk-container-id-2 div.sk-parallel-item:first-child::after {align-self: flex-end;width: 50%;}#sk-container-id-2 div.sk-parallel-item:last-child::after {align-self: flex-start;width: 50%;}#sk-container-id-2 div.sk-parallel-item:only-child::after {width: 0;}#sk-container-id-2 div.sk-dashed-wrapped {border: 1px dashed gray;margin: 0 0.4em 0.5em 0.4em;box-sizing: border-box;padding-bottom: 0.4em;background-color: white;}#sk-container-id-2 div.sk-label label {font-family: monospace;font-weight: bold;display: inline-block;line-height: 1.2em;}#sk-container-id-2 div.sk-label-container {text-align: center;}#sk-container-id-2 div.sk-container {/* jupyter's `normalize.less` sets `[hidden] { display: none; }` but bootstrap.min.css set `[hidden] { display: none !important; }` so we also need the `!important` here to be able to override the default hidden behavior on the sphinx rendered scikit-learn.org. See: https://github.com/scikit-learn/scikit-learn/issues/21755 */display: inline-block !important;position: relative;}#sk-container-id-2 div.sk-text-repr-fallback {display: none;}</style><div id=\"sk-container-id-2\" class=\"sk-top-container\"><div class=\"sk-text-repr-fallback\"><pre>LogisticRegression()</pre><b>In a Jupyter environment, please rerun this cell to show the HTML representation or trust the notebook. <br />On GitHub, the HTML representation is unable to render, please try loading this page with nbviewer.org.</b></div><div class=\"sk-container\" hidden><div class=\"sk-item\"><div class=\"sk-estimator sk-toggleable\"><input class=\"sk-toggleable__control sk-hidden--visually\" id=\"sk-estimator-id-2\" type=\"checkbox\" checked><label for=\"sk-estimator-id-2\" class=\"sk-toggleable__label sk-toggleable__label-arrow\">LogisticRegression</label><div class=\"sk-toggleable__content\"><pre>LogisticRegression()</pre></div></div></div></div></div>"
            ]
          },
          "metadata": {},
          "execution_count": 24
        }
      ]
    },
    {
      "cell_type": "code",
      "source": [
        "from sklearn.metrics import accuracy_score, precision_score, recall_score, f1_score\n",
        "\n",
        "y_pred = model.predict(X_test)\n",
        "\n",
        "print(\"Accuracy:\", accuracy_score(y_test, y_pred))\n",
        "print(\"Precision:\", precision_score(y_test, y_pred))\n",
        "print(\"Recall:\", recall_score(y_test, y_pred))\n",
        "print(\"F1 Score:\", f1_score(y_test, y_pred))"
      ],
      "metadata": {
        "colab": {
          "base_uri": "https://localhost:8080/"
        },
        "id": "1NH6YInCkMto",
        "outputId": "a397c102-56ab-456d-cc83-2e772e8c4ae9"
      },
      "execution_count": 25,
      "outputs": [
        {
          "output_type": "stream",
          "name": "stdout",
          "text": [
            "Accuracy: 0.8110532407407407\n",
            "Precision: 0.8108741504569955\n",
            "Recall: 0.9699484189280108\n",
            "F1 Score: 0.8833065277884148\n"
          ]
        }
      ]
    },
    {
      "cell_type": "code",
      "source": [
        "def predict_claim_veracity(claim, kg, model, vectorizer):\n",
        "    claim = preprocess_text(claim)\n",
        "    claim_features = vectorizer.transform([claim])\n",
        "\n",
        "    predictions = []\n",
        "    for _, data in kg.nodes(data=True):\n",
        "        if data['label'] == 'evidence':\n",
        "            evidence_text = preprocess_text(data['title'])\n",
        "            evidence_features = vectorizer.transform([evidence_text])\n",
        "            features = hstack([claim_features, evidence_features])\n",
        "            pred = model.predict(features)\n",
        "            prob = model.predict_proba(features)[:, 1][0]\n",
        "            predictions.append((evidence_text, pred, prob))\n",
        "\n",
        "    sorted_predictions = sorted(predictions, key=lambda x: x[2], reverse=True)\n",
        "    top_prediction = sorted_predictions[0]\n",
        "\n",
        "    return \"SUPPORTS\" if top_prediction[1] == 1 else \"REFUTES\", top_prediction[0], top_prediction[2]\n",
        "\n",
        "\n"
      ],
      "metadata": {
        "id": "3ZKqqtXVUkwq"
      },
      "execution_count": 26,
      "outputs": []
    },
    {
      "cell_type": "code",
      "source": [
        "def find_claim_id_by_text(kg, claim_text):\n",
        "    for node_id, data in kg.nodes(data=True):\n",
        "        if data['label'] == 'claim' and data['text'] == claim_text:\n",
        "            return node_id\n",
        "    return None\n",
        "\n",
        "def predict_claim_veracity(claim_text, kg, model, vectorizer):\n",
        "    claim_id = find_claim_id_by_text(kg, claim_text)\n",
        "    print(claim_id)\n",
        "    if claim_id is None:\n",
        "        print(\"Claim not found in the knowledge graph.\")\n",
        "        return None\n",
        "\n",
        "    claim = preprocess_text(claim_text)\n",
        "    claim_features = vectorizer.transform([claim])\n",
        "\n",
        "    top_k_evidences = find_top_k_evidences(kg, claim_id)\n",
        "    predictions = []\n",
        "    for evidence_id, relationship in top_k_evidences:\n",
        "        evidence_data = kg.nodes[evidence_id]\n",
        "        evidence_text = preprocess_text(evidence_data['title'])\n",
        "        evidence_features = vectorizer.transform([evidence_text])\n",
        "        features = hstack([claim_features, evidence_features])\n",
        "        \n",
        "        prediction = model.predict(features)\n",
        "        probability = model.predict_proba(features)\n",
        "\n",
        "        if prediction[0] == 1:\n",
        "            predicted_relationship = \"SUPPORTS\"\n",
        "        else:\n",
        "            predicted_relationship = \"REFUTES\"\n",
        "\n",
        "        confidence = max(probability[0])\n",
        "\n",
        "        predictions.append((predicted_relationship, evidence_text, confidence))\n",
        "\n",
        "    return predictions, top_k_evidences\n",
        "\n",
        "\n"
      ],
      "metadata": {
        "id": "LuiEsDLAUnEy"
      },
      "execution_count": 27,
      "outputs": []
    },
    {
      "cell_type": "code",
      "source": [
        "def find_claim_id_by_text(kg, claim_text):\n",
        "    for node_id, data in knowledge_graph.nodes(data=True):\n",
        "        if data['label'] == 'claim' and data['text'] == claim_text:\n",
        "            return node_id\n",
        "    return None\n",
        "\n",
        "def predict_claim_veracity(claim_text, kg, model, vectorizer):\n",
        "    claim_id = find_claim_id_by_text(knowledge_graph, claim_text)\n",
        "    if claim_id is None:\n",
        "        print(\"Claim not found in the knowledge graph.\")\n",
        "        return None\n",
        "\n",
        "    claim = preprocess_text(claim_text)\n",
        "    claim_features = vectorizer.transform([claim])\n",
        "\n",
        "    top_k_evidences = find_top_k_evidences(kg, claim_id)\n",
        "    predictions = []\n",
        "    for evidence_id, relationship in top_k_evidences:\n",
        "        evidence_data = kg.nodes[evidence_id]\n",
        "        evidence_text = preprocess_text(evidence_data['title'])\n",
        "        evidence_features = vectorizer.transform([evidence_text])\n",
        "        features = hstack([claim_features, evidence_features])\n",
        "        \n",
        "        prediction = model.predict(features)\n",
        "        probability = model.predict_proba(features)\n",
        "\n",
        "        if prediction[0] == 1:\n",
        "            predicted_relationship = \"SUPPORTS\"\n",
        "        else:\n",
        "            predicted_relationship = \"REFUTES\"\n",
        "\n",
        "        confidence = max(probability[0])\n",
        "\n",
        "        predictions.append((predicted_relationship, evidence_text, confidence))\n",
        "\n",
        "    return predictions, top_k_evidences\n",
        "\n",
        "\n"
      ],
      "metadata": {
        "id": "tCuWDedhUnMJ"
      },
      "execution_count": 28,
      "outputs": []
    },
    {
      "cell_type": "code",
      "source": [
        "# Fact Checking function\n",
        "def fact_check(claim_text):\n",
        "    predictions, top_k_evidences = predict_claim_veracity(claim_text, knowledge_graph, model, vectorizer)\n",
        "    print(top_k_evidences)\n",
        "    if predictions is not None:\n",
        "      print(\"Predictions:\")\n",
        "      for relationship, evidence, confidence in predictions:\n",
        "          print(f\"{relationship} with evidence: {evidence} and confidence: {confidence:.2f}\")\n"
      ],
      "metadata": {
        "id": "xSmX_CEXUrcv"
      },
      "execution_count": 29,
      "outputs": []
    },
    {
      "cell_type": "code",
      "source": [],
      "metadata": {
        "id": "pZ6OwNUxUtoa"
      },
      "execution_count": 29,
      "outputs": []
    }
  ]
}
